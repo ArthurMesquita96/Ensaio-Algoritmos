{
 "cells": [
  {
   "cell_type": "markdown",
   "id": "85ef204d",
   "metadata": {},
   "source": [
    "# Imports"
   ]
  },
  {
   "cell_type": "code",
   "execution_count": 3,
   "id": "2aa1c6cc",
   "metadata": {
    "ExecuteTime": {
     "end_time": "2023-09-01T10:47:20.439852Z",
     "start_time": "2023-09-01T10:47:20.433663Z"
    }
   },
   "outputs": [],
   "source": [
    "import pandas as pd\n",
    "import matplotlib.pyplot as plt\n",
    "import seaborn as sns\n",
    "from sklearn.neighbors import KNeighborsClassifier\n",
    "from sklearn.tree import DecisionTreeClassifier\n",
    "from sklearn.ensemble import RandomForestClassifier\n",
    "from sklearn.linear_model import LogisticRegression\n",
    "from sklearn import metrics as mt\n",
    "\n",
    "import optuna"
   ]
  },
  {
   "cell_type": "markdown",
   "id": "0214cb73",
   "metadata": {},
   "source": [
    "## Functions"
   ]
  },
  {
   "cell_type": "code",
   "execution_count": 4,
   "id": "59f83762",
   "metadata": {
    "ExecuteTime": {
     "end_time": "2023-09-01T10:47:21.506934Z",
     "start_time": "2023-09-01T10:47:21.499079Z"
    }
   },
   "outputs": [],
   "source": [
    "def ml_metrics(y_val, y_pred, model_name, k): \n",
    "    acc       = mt.accuracy_score(y_val, y_pred)\n",
    "    precision = mt.precision_score(y_val, y_pred)\n",
    "    recall    = mt.recall_score(y_val, y_pred)\n",
    "    f1_score  = mt.f1_score(y_val, y_pred)\n",
    "    df_results = pd.DataFrame( {'Model':[model_name],\n",
    "                                'K': [k],\n",
    "                                'Accuracy': [acc],\n",
    "                                'Precision': [precision],\n",
    "                                'Recall': [recall],\n",
    "                                'F1-Score': [f1_score]})\n",
    "    \n",
    "    return df_results"
   ]
  },
  {
   "cell_type": "markdown",
   "id": "ac56482f",
   "metadata": {},
   "source": [
    "# Carregando Dados"
   ]
  },
  {
   "cell_type": "code",
   "execution_count": 5,
   "id": "7cbc84da",
   "metadata": {
    "ExecuteTime": {
     "end_time": "2023-09-01T10:47:23.042586Z",
     "start_time": "2023-09-01T10:47:22.589548Z"
    }
   },
   "outputs": [],
   "source": [
    "# Dados de Treino\n",
    "X_train = pd.read_csv('datasets/classificacao/X_training.csv')\n",
    "y_train = pd.read_csv('datasets/classificacao/y_training.csv').values.ravel()\n",
    "\n",
    "# Dados de Validação\n",
    "X_val = pd.read_csv('datasets/classificacao/X_validation.csv')\n",
    "y_val = pd.read_csv('datasets/classificacao/y_validation.csv').values.ravel()\n",
    "\n",
    "# Dados de Teste\n",
    "X_test = pd.read_csv('datasets/classificacao/X_test.csv')\n",
    "y_test = pd.read_csv('datasets/classificacao/y_test.csv').values.ravel()"
   ]
  },
  {
   "cell_type": "code",
   "execution_count": 6,
   "id": "6c1b22b3",
   "metadata": {
    "ExecuteTime": {
     "end_time": "2023-09-01T10:47:23.512296Z",
     "start_time": "2023-09-01T10:47:23.505796Z"
    }
   },
   "outputs": [
    {
     "name": "stdout",
     "output_type": "stream",
     "text": [
      "Dados de Treino:    Linhas: 72515   Colunas: 25\n",
      "Dados de Validação: Linhas: 31079   Colunas: 25\n",
      "Dados de Teste:     Linhas: 25893   Colunas: 25\n"
     ]
    }
   ],
   "source": [
    "print(f'Dados de Treino:    Linhas: {X_train.shape[0]}   Colunas: {X_train.shape[1]}')\n",
    "print(f'Dados de Validação: Linhas: {X_val.shape[0]}   Colunas: {X_val.shape[1]}')\n",
    "print(f'Dados de Teste:     Linhas: {X_test.shape[0]}   Colunas: {X_test.shape[1]}')"
   ]
  },
  {
   "cell_type": "markdown",
   "id": "86c52db3",
   "metadata": {},
   "source": [
    "# Ensaio\n",
    "\n",
    "Métricas do Ensaio:\n",
    "\n",
    "- Accuracy\n",
    "- Precision\n",
    "- Recall\n",
    "- F1-Score"
   ]
  },
  {
   "cell_type": "markdown",
   "id": "6fe81376",
   "metadata": {},
   "source": [
    "## Função do Ensaio"
   ]
  },
  {
   "cell_type": "code",
   "execution_count": 7,
   "id": "82151a35",
   "metadata": {
    "ExecuteTime": {
     "end_time": "2023-09-01T10:47:25.188592Z",
     "start_time": "2023-09-01T10:47:25.179131Z"
    }
   },
   "outputs": [],
   "source": [
    "# model fine tuning\n",
    "def ensaio(model, parameters, model_name, n_iter):\n",
    "\n",
    "    def model_fine_tuning(trial):\n",
    "\n",
    "        parameters_values = {}\n",
    "\n",
    "        for name in list(parameters.keys()):\n",
    "            # dicionário de parametros\n",
    "            if parameters[name]['type'] == 'int':\n",
    "                parameters_values[name] = trial.suggest_int(name, parameters[name]['min'], parameters[name]['max'])\n",
    "            if parameters[name]['type'] == 'float':\n",
    "                parameters_values[name] = trial.suggest_float(name, parameters[name]['min'], parameters[name]['max'])\n",
    "            if parameters[name]['type'] == 'str':\n",
    "                parameters_values[name] = trial.suggest_categorical(name, parameters[name]['values'])\n",
    "\n",
    "        # definindo modelo\n",
    "        model.set_params(**parameters_values)\n",
    "\n",
    "        model.fit(X_train, y_train)\n",
    "\n",
    "        y_pred = model.predict(X_val)\n",
    "\n",
    "        return np.sqrt(mt.mean_squared_error(y_val, y_pred))\n",
    "    \n",
    "    df_results = pd.DataFrame()\n",
    "    best_params = {}\n",
    "\n",
    "    # se houve parametros à otimizar\n",
    "    if len(list(parameters.keys())) > 0:\n",
    "        # Optuna fine tuning\n",
    "        model_study = optuna.create_study(direction='minimize')\n",
    "        model_study.optimize(model_fine_tuning, n_trials=n_iter)\n",
    "\n",
    "        best_params = model_study.best_params\n",
    "\n",
    "    # Model fit \n",
    "    model.fit(X_train, y_train)\n",
    "\n",
    "    #### Train\n",
    "    # Model Predict\n",
    "    y_pred = model.predict(X_train)\n",
    "    train_metrics = ml_metrics(y_train, y_pred, model_name, 'Train')\n",
    "\n",
    "    #### Validation\n",
    "    # Model Predict\n",
    "    y_pred = model.predict(X_val)\n",
    "    validation_metrics = ml_metrics(y_val, y_pred, model_name, 'Validation')\n",
    "\n",
    "    #### Test\n",
    "    # Model Predict\n",
    "    y_pred = model.predict(X_test)\n",
    "    test_metrics = ml_metrics(y_test, y_pred, model_name, 'Test')\n",
    "\n",
    "    df_results = pd.concat([df_results, train_metrics], axis=0)\n",
    "    df_results = pd.concat([df_results, validation_metrics], axis=0)\n",
    "    df_results = pd.concat([df_results, test_metrics], axis=0)\n",
    "\n",
    "    return df_results"
   ]
  },
  {
   "cell_type": "markdown",
   "id": "56fe7776",
   "metadata": {},
   "source": [
    "## Definindo parametros do modelo"
   ]
  },
  {
   "cell_type": "code",
   "execution_count": 8,
   "id": "23130c7e",
   "metadata": {
    "ExecuteTime": {
     "end_time": "2023-09-01T10:47:26.273690Z",
     "start_time": "2023-09-01T10:47:26.267874Z"
    }
   },
   "outputs": [],
   "source": [
    "knn_parameters = {'n_neighbors':{'type':'int', 'min':2, 'max':20}, 'n_jobs': {'type': 'int', 'min': -1, 'max': -1}}\n",
    "dt_parameters = {'max_depth':{'type':'int', 'min':2, 'max':50}}\n",
    "rf_parameters = {'n_estimators':{'type':'int', 'min':2, 'max':50},'max_depth':{'type':'int', 'min':2, 'max':50}}\n",
    "lr_parameters = {'C':{'type':'float', 'min':0, 'max':10},'max_iter':{'type':'int', 'min':2, 'max':50}, 'solver': {'type': 'str', 'values':['lbfgs', 'liblinear', 'newton-cg', 'newton-cholesky', 'sag', 'saga']}}"
   ]
  },
  {
   "cell_type": "markdown",
   "id": "569cb2a4",
   "metadata": {},
   "source": [
    "## Definindo parametros do ensaio"
   ]
  },
  {
   "cell_type": "code",
   "execution_count": null,
   "id": "9c09ceda",
   "metadata": {
    "ExecuteTime": {
     "end_time": "2023-09-01T10:47:26.983620Z",
     "start_time": "2023-09-01T10:47:26.976931Z"
    }
   },
   "outputs": [],
   "source": [
    "dict_models = {\n",
    "    'KNN':{'model': KNeighborsClassifier(), 'parameters': knn_parameters},\n",
    "    'Logistic Regression': {'model': LogisticRegression(), 'parameters': lr_parameters},\n",
    "    'Decision Tree': {'model': DecisionTreeClassifier(), 'parameters': dt_parameters},\n",
    "    'Random Forest': {'model': RandomForestClassifier(), 'parameters': rf_parameters}\n",
    "}"
   ]
  },
  {
   "cell_type": "markdown",
   "id": "56ff2f08",
   "metadata": {},
   "source": [
    "## Ensaiando Modelos"
   ]
  },
  {
   "cell_type": "code",
   "execution_count": 9,
   "id": "c30bb088",
   "metadata": {
    "ExecuteTime": {
     "end_time": "2023-09-01T10:47:26.983620Z",
     "start_time": "2023-09-01T10:47:26.976931Z"
    }
   },
   "outputs": [],
   "source": [
    "df_results = pd.DataFrame()\n",
    "for i_model in list(dict_models.keys()):\n",
    "    model_name = i_model\n",
    "    model = dict_models[i_model]['model']\n",
    "    model_params = dict_models[i_model]['parameters']\n",
    "    print(f'{model_name}')\n",
    "    \n",
    "    i_results = ensaio(model, model_params, model_name, 100)\n",
    "    \n",
    "    df_results = pd.concat([df_results, i_results], axis=0)\n",
    "df_results"
   ]
  },
  {
   "cell_type": "markdown",
   "id": "b91e4109",
   "metadata": {},
   "source": [
    "# Resultados Finais"
   ]
  },
  {
   "cell_type": "code",
   "execution_count": 17,
   "id": "7980aacb",
   "metadata": {
    "ExecuteTime": {
     "end_time": "2023-09-01T22:27:29.257398Z",
     "start_time": "2023-09-01T22:27:29.043933Z"
    }
   },
   "outputs": [
    {
     "data": {
      "image/png": "[encoded data removed]",
      "text/plain": [
       "<Figure size 800x500 with 1 Axes>"
      ]
     },
     "metadata": {},
     "output_type": "display_data"
    }
   ],
   "source": [
    "plt.figure(figsize=(8,5))\n",
    "sns.barplot(x='Model', y='F1-Score', hue = 'K', data=df_results)\n",
    "plt.title('F1-Score Results')\n",
    "plt.legend(fontsize='x-small', title_fontsize='10');"
   ]
  }
 ],
 "metadata": {
  "kernelspec": {
   "display_name": "Python 3 (ipykernel)",
   "language": "python",
   "name": "python3"
  },
  "language_info": {
   "codemirror_mode": {
    "name": "ipython",
    "version": 3
   },
   "file_extension": ".py",
   "mimetype": "text/x-python",
   "name": "python",
   "nbconvert_exporter": "python",
   "pygments_lexer": "ipython3",
   "version": "3.11.4"
  },
  "toc": {
   "base_numbering": 1,
   "nav_menu": {},
   "number_sections": true,
   "sideBar": true,
   "skip_h1_title": false,
   "title_cell": "Table of Contents",
   "title_sidebar": "Contents",
   "toc_cell": false,
   "toc_position": {},
   "toc_section_display": true,
   "toc_window_display": false
  },
  "varInspector": {
   "cols": {
    "lenName": 16,
    "lenType": 16,
    "lenVar": 40
   },
   "kernels_config": {
    "python": {
     "delete_cmd_postfix": "",
     "delete_cmd_prefix": "del ",
     "library": "var_list.py",
     "varRefreshCmd": "print(var_dic_list())"
    },
    "r": {
     "delete_cmd_postfix": ") ",
     "delete_cmd_prefix": "rm(",
     "library": "var_list.r",
     "varRefreshCmd": "cat(var_dic_list()) "
    }
   },
   "types_to_exclude": [
    "module",
    "function",
    "builtin_function_or_method",
    "instance",
    "_Feature"
   ],
   "window_display": false
  }
 },
 "nbformat": 4,
 "nbformat_minor": 5
}
