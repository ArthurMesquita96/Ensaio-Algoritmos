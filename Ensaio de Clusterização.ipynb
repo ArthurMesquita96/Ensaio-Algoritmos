{
 "cells": [
  {
   "cell_type": "markdown",
   "id": "dd950ac6",
   "metadata": {
    "ExecuteTime": {
     "end_time": "2023-08-28T09:59:04.176650Z",
     "start_time": "2023-08-28T09:59:04.165066Z"
    }
   },
   "source": [
    "# Descrição\n",
    "\n",
    "Ensaio de Algoritmos de Clusterização\n",
    "\n",
    "Algoritmos Utilizados:\n",
    "    \n",
    "- KMeans\n",
    "- Affinity Propagation\n",
    "\n",
    "Métricas de Performance\n",
    "\n",
    "- Silhouette Score"
   ]
  },
  {
   "cell_type": "markdown",
   "id": "3c32557b",
   "metadata": {},
   "source": [
    "# Imports"
   ]
  },
  {
   "cell_type": "code",
   "execution_count": 130,
   "id": "2cad4fd0",
   "metadata": {
    "ExecuteTime": {
     "end_time": "2023-09-02T12:56:26.901029Z",
     "start_time": "2023-09-02T12:56:26.897562Z"
    }
   },
   "outputs": [],
   "source": [
    "import pandas as pd\n",
    "import seaborn as sns\n",
    "from sklearn import cluster as ct\n",
    "from sklearn import metrics as mt"
   ]
  },
  {
   "cell_type": "markdown",
   "id": "f9b0f432",
   "metadata": {},
   "source": [
    "# Carregando Dados"
   ]
  },
  {
   "cell_type": "code",
   "execution_count": 131,
   "id": "5d4183c9",
   "metadata": {
    "ExecuteTime": {
     "end_time": "2023-09-02T12:56:26.948323Z",
     "start_time": "2023-09-02T12:56:26.916638Z"
    }
   },
   "outputs": [],
   "source": [
    "# Dados de Treino\n",
    "X_data = pd.read_csv('datasets/clusterizacao/X_dataset.csv')"
   ]
  },
  {
   "cell_type": "code",
   "execution_count": 132,
   "id": "4715cf9d",
   "metadata": {
    "ExecuteTime": {
     "end_time": "2023-09-02T12:56:26.953578Z",
     "start_time": "2023-09-02T12:56:26.949718Z"
    }
   },
   "outputs": [
    {
     "name": "stdout",
     "output_type": "stream",
     "text": [
      "Dados de Treino:    Linhas: 178   Colunas: 13\n"
     ]
    }
   ],
   "source": [
    "print(f'Dados de Treino:    Linhas: {X_data.shape[0]}   Colunas: {X_data.shape[1]}')"
   ]
  },
  {
   "cell_type": "code",
   "execution_count": 133,
   "id": "d31e1ba5",
   "metadata": {
    "ExecuteTime": {
     "end_time": "2023-09-02T12:56:26.967047Z",
     "start_time": "2023-09-02T12:56:26.955197Z"
    }
   },
   "outputs": [
    {
     "data": {
      "text/html": [
       "<div>\n",
       "<style scoped>\n",
       "    .dataframe tbody tr th:only-of-type {\n",
       "        vertical-align: middle;\n",
       "    }\n",
       "\n",
       "    .dataframe tbody tr th {\n",
       "        vertical-align: top;\n",
       "    }\n",
       "\n",
       "    .dataframe thead th {\n",
       "        text-align: right;\n",
       "    }\n",
       "</style>\n",
       "<table border=\"1\" class=\"dataframe\">\n",
       "  <thead>\n",
       "    <tr style=\"text-align: right;\">\n",
       "      <th></th>\n",
       "      <th>alcohol</th>\n",
       "      <th>malic_acid</th>\n",
       "      <th>ash</th>\n",
       "      <th>ash_alcanity</th>\n",
       "      <th>magnesium</th>\n",
       "      <th>total_phenols</th>\n",
       "      <th>flavanoids</th>\n",
       "      <th>nonflavanoid_phenols</th>\n",
       "      <th>proanthocyanins</th>\n",
       "      <th>color_intensity</th>\n",
       "      <th>hue</th>\n",
       "      <th>od280</th>\n",
       "      <th>proline</th>\n",
       "    </tr>\n",
       "  </thead>\n",
       "  <tbody>\n",
       "    <tr>\n",
       "      <th>0</th>\n",
       "      <td>1.518613</td>\n",
       "      <td>0.191700</td>\n",
       "      <td>0.232053</td>\n",
       "      <td>-1.169593</td>\n",
       "      <td>1.913905</td>\n",
       "      <td>0.627586</td>\n",
       "      <td>0.573840</td>\n",
       "      <td>-0.659563</td>\n",
       "      <td>1.224884</td>\n",
       "      <td>0.251717</td>\n",
       "      <td>0.455285</td>\n",
       "      <td>0.970696</td>\n",
       "      <td>0.561341</td>\n",
       "    </tr>\n",
       "    <tr>\n",
       "      <th>1</th>\n",
       "      <td>0.246290</td>\n",
       "      <td>0.205534</td>\n",
       "      <td>-0.827996</td>\n",
       "      <td>-2.490847</td>\n",
       "      <td>0.018145</td>\n",
       "      <td>0.575862</td>\n",
       "      <td>0.510549</td>\n",
       "      <td>-0.820719</td>\n",
       "      <td>-0.544721</td>\n",
       "      <td>-0.293321</td>\n",
       "      <td>0.463415</td>\n",
       "      <td>0.780220</td>\n",
       "      <td>0.550642</td>\n",
       "    </tr>\n",
       "    <tr>\n",
       "      <th>2</th>\n",
       "      <td>0.196879</td>\n",
       "      <td>0.320158</td>\n",
       "      <td>1.109334</td>\n",
       "      <td>-0.268738</td>\n",
       "      <td>0.088358</td>\n",
       "      <td>0.627586</td>\n",
       "      <td>0.611814</td>\n",
       "      <td>-0.498407</td>\n",
       "      <td>2.135968</td>\n",
       "      <td>0.269020</td>\n",
       "      <td>0.447154</td>\n",
       "      <td>0.695971</td>\n",
       "      <td>0.646933</td>\n",
       "    </tr>\n",
       "    <tr>\n",
       "      <th>3</th>\n",
       "      <td>1.691550</td>\n",
       "      <td>0.239130</td>\n",
       "      <td>0.487926</td>\n",
       "      <td>-0.809251</td>\n",
       "      <td>0.930918</td>\n",
       "      <td>0.989655</td>\n",
       "      <td>0.664557</td>\n",
       "      <td>-0.981875</td>\n",
       "      <td>1.032155</td>\n",
       "      <td>1.186068</td>\n",
       "      <td>0.308943</td>\n",
       "      <td>0.798535</td>\n",
       "      <td>0.857347</td>\n",
       "    </tr>\n",
       "    <tr>\n",
       "      <th>4</th>\n",
       "      <td>0.295700</td>\n",
       "      <td>0.365613</td>\n",
       "      <td>1.840403</td>\n",
       "      <td>0.451946</td>\n",
       "      <td>1.281985</td>\n",
       "      <td>0.627586</td>\n",
       "      <td>0.495781</td>\n",
       "      <td>0.226796</td>\n",
       "      <td>0.401404</td>\n",
       "      <td>-0.319276</td>\n",
       "      <td>0.455285</td>\n",
       "      <td>0.608059</td>\n",
       "      <td>0.325963</td>\n",
       "    </tr>\n",
       "  </tbody>\n",
       "</table>\n",
       "</div>"
      ],
      "text/plain": [
       "    alcohol  malic_acid       ash  ash_alcanity  magnesium  total_phenols  \\\n",
       "0  1.518613    0.191700  0.232053     -1.169593   1.913905       0.627586   \n",
       "1  0.246290    0.205534 -0.827996     -2.490847   0.018145       0.575862   \n",
       "2  0.196879    0.320158  1.109334     -0.268738   0.088358       0.627586   \n",
       "3  1.691550    0.239130  0.487926     -0.809251   0.930918       0.989655   \n",
       "4  0.295700    0.365613  1.840403      0.451946   1.281985       0.627586   \n",
       "\n",
       "   flavanoids  nonflavanoid_phenols  proanthocyanins  color_intensity  \\\n",
       "0    0.573840             -0.659563         1.224884         0.251717   \n",
       "1    0.510549             -0.820719        -0.544721        -0.293321   \n",
       "2    0.611814             -0.498407         2.135968         0.269020   \n",
       "3    0.664557             -0.981875         1.032155         1.186068   \n",
       "4    0.495781              0.226796         0.401404        -0.319276   \n",
       "\n",
       "        hue     od280   proline  \n",
       "0  0.455285  0.970696  0.561341  \n",
       "1  0.463415  0.780220  0.550642  \n",
       "2  0.447154  0.695971  0.646933  \n",
       "3  0.308943  0.798535  0.857347  \n",
       "4  0.455285  0.608059  0.325963  "
      ]
     },
     "execution_count": 133,
     "metadata": {},
     "output_type": "execute_result"
    }
   ],
   "source": [
    "X_data.head()"
   ]
  },
  {
   "cell_type": "markdown",
   "id": "30afea77",
   "metadata": {},
   "source": [
    "# Ensaio\n",
    "\n",
    "Parametros otimizados\n",
    "\n",
    "| Modelo  |   Parametro   |\n",
    "| ------- | ------------- |\n",
    "| KMeans  |      K        |\n",
    "| Affinity Propagation |   preference |"
   ]
  },
  {
   "cell_type": "markdown",
   "id": "73ce0068",
   "metadata": {},
   "source": [
    "## Fine Tuning"
   ]
  },
  {
   "cell_type": "markdown",
   "id": "890adb2c",
   "metadata": {},
   "source": [
    "### KMeans"
   ]
  },
  {
   "cell_type": "code",
   "execution_count": 134,
   "id": "ae947667",
   "metadata": {
    "ExecuteTime": {
     "end_time": "2023-09-02T12:56:27.303056Z",
     "start_time": "2023-09-02T12:56:26.983022Z"
    }
   },
   "outputs": [],
   "source": [
    "k_results = pd.DataFrame()\n",
    "for k in range(2, 30):\n",
    "    # model definition\n",
    "    kmeans_model = ct.KMeans(n_clusters=k, n_init='auto')\n",
    "\n",
    "    # model fit\n",
    "    kmeans_model.fit(X_data)\n",
    "\n",
    "    # model predict\n",
    "    labels = kmeans_model.predict(X_data)\n",
    "\n",
    "    # performance\n",
    "    i_results = mt.silhouette_score( X_data, labels)\n",
    "    i_results = pd.DataFrame({'K': k, 'SS Score': i_results}, index=[0])\n",
    "    k_results = pd.concat([k_results, i_results], axis=0)\n",
    "    "
   ]
  },
  {
   "cell_type": "code",
   "execution_count": 135,
   "id": "935c54fc",
   "metadata": {
    "ExecuteTime": {
     "end_time": "2023-09-02T12:56:27.506908Z",
     "start_time": "2023-09-02T12:56:27.304539Z"
    }
   },
   "outputs": [
    {
     "data": {
      "text/plain": [
       "<Axes: xlabel='K', ylabel='SS Score'>"
      ]
     },
     "execution_count": 135,
     "metadata": {},
     "output_type": "execute_result"
    },
    {
     "data": {
      "image/png": "[encoded data removed]",
      "text/plain": [
       "<Figure size 640x480 with 1 Axes>"
      ]
     },
     "metadata": {},
     "output_type": "display_data"
    }
   ],
   "source": [
    "sns.lineplot(x='K', y='SS Score', data=k_results, marker='o')"
   ]
  },
  {
   "cell_type": "code",
   "execution_count": 136,
   "id": "a7018b00",
   "metadata": {
    "ExecuteTime": {
     "end_time": "2023-09-02T12:56:27.512628Z",
     "start_time": "2023-09-02T12:56:27.508400Z"
    }
   },
   "outputs": [],
   "source": [
    "k_max = k_results.loc[k_results['SS Score'] == k_results['SS Score'].max(), 'K'][0]"
   ]
  },
  {
   "cell_type": "markdown",
   "id": "40a08d05",
   "metadata": {},
   "source": [
    "### Affinity Propagation"
   ]
  },
  {
   "cell_type": "code",
   "execution_count": 137,
   "id": "049a1c79",
   "metadata": {
    "ExecuteTime": {
     "end_time": "2023-09-02T12:56:29.228688Z",
     "start_time": "2023-09-02T12:56:27.515278Z"
    }
   },
   "outputs": [],
   "source": [
    "P_results = pd.DataFrame()\n",
    "for p in range(-100, -1):\n",
    "    # model defintion\n",
    "    aff_model = ct.AffinityPropagation(preference=p)\n",
    "\n",
    "    # model fit\n",
    "    aff_model.fit(X_data)\n",
    "\n",
    "    # model predict\n",
    "    labels = aff_model.predict(X_data)\n",
    "\n",
    "    # # performance\n",
    "    p_results = mt.silhouette_score(X_data, labels)\n",
    "    p_results = pd.DataFrame({'P': p, 'SS Score': p_results}, index=[0])\n",
    "    P_results = pd.concat([P_results, p_results], axis=0)"
   ]
  },
  {
   "cell_type": "code",
   "execution_count": 138,
   "id": "80672654",
   "metadata": {
    "ExecuteTime": {
     "end_time": "2023-09-02T12:56:29.393744Z",
     "start_time": "2023-09-02T12:56:29.230593Z"
    }
   },
   "outputs": [
    {
     "data": {
      "image/png": "[encoded data removed]",
      "text/plain": [
       "<Figure size 640x480 with 1 Axes>"
      ]
     },
     "metadata": {},
     "output_type": "display_data"
    }
   ],
   "source": [
    "sns.lineplot(x='P', y='SS Score', data=P_results, marker='o');"
   ]
  },
  {
   "cell_type": "markdown",
   "id": "64e81acb",
   "metadata": {},
   "source": [
    "## Definindo parametros do modelo"
   ]
  },
  {
   "cell_type": "code",
   "execution_count": 139,
   "id": "10879831",
   "metadata": {
    "ExecuteTime": {
     "end_time": "2023-09-02T12:56:29.401664Z",
     "start_time": "2023-09-02T12:56:29.395579Z"
    }
   },
   "outputs": [],
   "source": [
    "k_max = k_results.loc[k_results['SS Score'] == k_results['SS Score'].max(), 'K'][0]\n",
    "preference_max = P_results.loc[P_results['SS Score'] == P_results['SS Score'].max(), 'P'][0]"
   ]
  },
  {
   "cell_type": "markdown",
   "id": "ace37391",
   "metadata": {
    "ExecuteTime": {
     "end_time": "2023-09-02T12:35:19.253680Z",
     "start_time": "2023-09-02T12:35:19.249058Z"
    }
   },
   "source": [
    "## Definindo Parametros do Ensaio"
   ]
  },
  {
   "cell_type": "code",
   "execution_count": 140,
   "id": "86b88c15",
   "metadata": {
    "ExecuteTime": {
     "end_time": "2023-09-02T12:56:29.407606Z",
     "start_time": "2023-09-02T12:56:29.403482Z"
    }
   },
   "outputs": [],
   "source": [
    "ensaio_parameters = {\n",
    "    'KMeans': ct.KMeans(n_clusters=k_max, n_init='auto'),\n",
    "    'Affinity Propagation': ct.AffinityPropagation(preference=preference_max)\n",
    "}"
   ]
  },
  {
   "cell_type": "markdown",
   "id": "46ce5fa0",
   "metadata": {},
   "source": [
    "# Resultados Finais"
   ]
  },
  {
   "cell_type": "code",
   "execution_count": 141,
   "id": "0d6f26b9",
   "metadata": {
    "ExecuteTime": {
     "end_time": "2023-09-02T12:56:29.413356Z",
     "start_time": "2023-09-02T12:56:29.407606Z"
    }
   },
   "outputs": [],
   "source": [
    "def ml_metrics(model_name, data, labels):\n",
    "    ss_score = mt.silhouette_score(data, labels)\n",
    "    results = pd.DataFrame({'Model name': model_name,'SS Score': ss_score}, index=[0])\n",
    "    return results"
   ]
  },
  {
   "cell_type": "code",
   "execution_count": 142,
   "id": "9440a62a",
   "metadata": {
    "ExecuteTime": {
     "end_time": "2023-09-02T12:56:29.421048Z",
     "start_time": "2023-09-02T12:56:29.415744Z"
    }
   },
   "outputs": [],
   "source": [
    "def ensaio(ensaio_parameters, data):\n",
    "    \n",
    "    ensaio_results = pd.DataFrame()\n",
    "    \n",
    "    for model_name in list(ensaio_parameters.keys()):\n",
    "        \n",
    "        # model fit\n",
    "        ensaio_parameters[model_name].fit(data)\n",
    "\n",
    "        # model predict\n",
    "        labels = ensaio_parameters[model_name].predict(data)\n",
    "\n",
    "        # metrics\n",
    "        i_results = ml_metrics(model_name, data, labels)\n",
    "        ensaio_results = pd.concat([ensaio_results, i_results], axis=0)\n",
    "        \n",
    "    return ensaio_results"
   ]
  },
  {
   "cell_type": "code",
   "execution_count": 143,
   "id": "170d92ea",
   "metadata": {
    "ExecuteTime": {
     "end_time": "2023-09-02T12:56:29.462707Z",
     "start_time": "2023-09-02T12:56:29.425409Z"
    }
   },
   "outputs": [
    {
     "data": {
      "text/html": [
       "<div>\n",
       "<style scoped>\n",
       "    .dataframe tbody tr th:only-of-type {\n",
       "        vertical-align: middle;\n",
       "    }\n",
       "\n",
       "    .dataframe tbody tr th {\n",
       "        vertical-align: top;\n",
       "    }\n",
       "\n",
       "    .dataframe thead th {\n",
       "        text-align: right;\n",
       "    }\n",
       "</style>\n",
       "<table border=\"1\" class=\"dataframe\">\n",
       "  <thead>\n",
       "    <tr style=\"text-align: right;\">\n",
       "      <th></th>\n",
       "      <th>Model name</th>\n",
       "      <th>SS Score</th>\n",
       "    </tr>\n",
       "  </thead>\n",
       "  <tbody>\n",
       "    <tr>\n",
       "      <th>0</th>\n",
       "      <td>KMeans</td>\n",
       "      <td>0.230648</td>\n",
       "    </tr>\n",
       "    <tr>\n",
       "      <th>0</th>\n",
       "      <td>Affinity Propagation</td>\n",
       "      <td>0.203658</td>\n",
       "    </tr>\n",
       "  </tbody>\n",
       "</table>\n",
       "</div>"
      ],
      "text/plain": [
       "             Model name  SS Score\n",
       "0                KMeans  0.230648\n",
       "0  Affinity Propagation  0.203658"
      ]
     },
     "execution_count": 143,
     "metadata": {},
     "output_type": "execute_result"
    }
   ],
   "source": [
    "ensaio(ensaio_parameters, X_data)"
   ]
  },
  {
   "cell_type": "code",
   "execution_count": null,
   "id": "5432644b",
   "metadata": {},
   "outputs": [],
   "source": []
  }
 ],
 "metadata": {
  "kernelspec": {
   "display_name": "Python 3 (ipykernel)",
   "language": "python",
   "name": "python3"
  },
  "language_info": {
   "codemirror_mode": {
    "name": "ipython",
    "version": 3
   },
   "file_extension": ".py",
   "mimetype": "text/x-python",
   "name": "python",
   "nbconvert_exporter": "python",
   "pygments_lexer": "ipython3",
   "version": "3.11.4"
  },
  "toc": {
   "base_numbering": 1,
   "nav_menu": {},
   "number_sections": true,
   "sideBar": true,
   "skip_h1_title": false,
   "title_cell": "Table of Contents",
   "title_sidebar": "Contents",
   "toc_cell": false,
   "toc_position": {},
   "toc_section_display": true,
   "toc_window_display": false
  },
  "varInspector": {
   "cols": {
    "lenName": 16,
    "lenType": 16,
    "lenVar": 40
   },
   "kernels_config": {
    "python": {
     "delete_cmd_postfix": "",
     "delete_cmd_prefix": "del ",
     "library": "var_list.py",
     "varRefreshCmd": "print(var_dic_list())"
    },
    "r": {
     "delete_cmd_postfix": ") ",
     "delete_cmd_prefix": "rm(",
     "library": "var_list.r",
     "varRefreshCmd": "cat(var_dic_list()) "
    }
   },
   "types_to_exclude": [
    "module",
    "function",
    "builtin_function_or_method",
    "instance",
    "_Feature"
   ],
   "window_display": false
  }
 },
 "nbformat": 4,
 "nbformat_minor": 5
}
